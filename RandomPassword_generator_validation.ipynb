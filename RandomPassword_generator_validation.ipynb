{
  "nbformat": 4,
  "nbformat_minor": 0,
  "metadata": {
    "colab": {
      "provenance": []
    },
    "kernelspec": {
      "name": "python3",
      "display_name": "Python 3"
    },
    "language_info": {
      "name": "python"
    }
  },
  "cells": [
    {
      "cell_type": "code",
      "source": [
        "import random\n",
        "import string"
      ],
      "metadata": {
        "id": "bxOnHX7Kt3MJ"
      },
      "execution_count": 9,
      "outputs": []
    },
    {
      "cell_type": "code",
      "source": [],
      "metadata": {
        "id": "biFA9tOPt2Ad"
      },
      "execution_count": null,
      "outputs": []
    },
    {
      "cell_type": "code",
      "source": [
        "def name_generator(size=10, chars=string.ascii_uppercase + string.ascii_lowercase):\n",
        "    return ''.join(random.choice(chars) for _ in range(size))\n",
        "\n",
        "def pass_generator(size=10, chars=string.ascii_uppercase + string.ascii_lowercase + string.digits + string.punctuation):\n",
        "    return ''.join(random.choice(chars) for _ in range(size))\n",
        "\n",
        "\n",
        "name = name_generator()\n",
        "password = pass_generator()\n",
        "\n",
        "\n",
        "print(name)\n",
        "print(password)\n",
        "\n",
        "\n",
        "# validation of name\n",
        "nsum=0\n",
        "if name[0] not in string.punctuation:\n",
        "    if (c.isalpha() for c in name):\n",
        "        nsum+=50\n",
        "        if len(name) >=7:\n",
        "            nsum+=50\n",
        "if nsum == 100:\n",
        "    print(\"name valid\")\n",
        "else:\n",
        "    print(\"try another name\")\n",
        "\n",
        "#password validation\n",
        "psum=0\n",
        "if (any(c.isalpha() for c in password)):\n",
        "    psum+=20\n",
        "    if (any(c.isdigit() for c in password)):\n",
        "        psum+=20\n",
        "        if (c in string.punctuation for c in password):\n",
        "            psum+=40\n",
        "            if len(password) >=8:\n",
        "                psum+=20\n",
        "if psum==100:\n",
        "    print(\"password valid\")\n",
        "else:\n",
        "    print(\"try another password\")\n",
        "    \n"
      ],
      "metadata": {
        "colab": {
          "base_uri": "https://localhost:8080/"
        },
        "id": "uQVUy4d0vF1O",
        "outputId": "70cb4380-eb4e-4fcc-fddf-809d0f932fcb"
      },
      "execution_count": 10,
      "outputs": [
        {
          "output_type": "stream",
          "name": "stdout",
          "text": [
            "AgBETaOvrR\n",
            "9y9j(5gd)x\n",
            "name valid\n",
            "password valid\n"
          ]
        }
      ]
    }
  ]
}